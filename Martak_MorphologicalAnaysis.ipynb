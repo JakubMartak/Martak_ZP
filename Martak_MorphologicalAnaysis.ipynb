{
 "cells": [
  {
   "cell_type": "markdown",
   "id": "f9207b2f",
   "metadata": {},
   "source": [
    "# Morfologicka anotacia"
   ]
  },
  {
   "cell_type": "code",
   "execution_count": 1,
   "id": "4f7acd0e",
   "metadata": {},
   "outputs": [
    {
     "name": "stdout",
     "output_type": "stream",
     "text": [
      "Requirement already satisfied: stanza in c:\\python311\\lib\\site-packages (1.6.1)\n",
      "Requirement already satisfied: emoji in c:\\python311\\lib\\site-packages (from stanza) (2.8.0)\n",
      "Requirement already satisfied: numpy in c:\\python311\\lib\\site-packages (from stanza) (1.24.3)\n",
      "Requirement already satisfied: protobuf>=3.15.0 in c:\\python311\\lib\\site-packages (from stanza) (4.22.1)\n",
      "Requirement already satisfied: requests in c:\\python311\\lib\\site-packages (from stanza) (2.28.2)\n",
      "Requirement already satisfied: torch>=1.3.0 in c:\\python311\\lib\\site-packages (from stanza) (2.1.0)\n",
      "Requirement already satisfied: tqdm in c:\\python311\\lib\\site-packages (from stanza) (4.65.0)\n",
      "Requirement already satisfied: filelock in c:\\python311\\lib\\site-packages (from torch>=1.3.0->stanza) (3.12.4)\n",
      "Requirement already satisfied: typing-extensions in c:\\python311\\lib\\site-packages (from torch>=1.3.0->stanza) (4.8.0)\n",
      "Requirement already satisfied: sympy in c:\\python311\\lib\\site-packages (from torch>=1.3.0->stanza) (1.12)\n",
      "Requirement already satisfied: networkx in c:\\python311\\lib\\site-packages (from torch>=1.3.0->stanza) (3.2)\n",
      "Requirement already satisfied: jinja2 in c:\\python311\\lib\\site-packages (from torch>=1.3.0->stanza) (3.1.2)\n",
      "Requirement already satisfied: fsspec in c:\\python311\\lib\\site-packages (from torch>=1.3.0->stanza) (2023.10.0)\n",
      "Requirement already satisfied: charset-normalizer<4,>=2 in c:\\python311\\lib\\site-packages (from requests->stanza) (3.1.0)\n",
      "Requirement already satisfied: idna<4,>=2.5 in c:\\python311\\lib\\site-packages (from requests->stanza) (3.4)\n",
      "Requirement already satisfied: urllib3<1.27,>=1.21.1 in c:\\python311\\lib\\site-packages (from requests->stanza) (1.26.15)\n",
      "Requirement already satisfied: certifi>=2017.4.17 in c:\\python311\\lib\\site-packages (from requests->stanza) (2022.12.7)\n",
      "Requirement already satisfied: colorama in c:\\users\\jakub\\appdata\\roaming\\python\\python311\\site-packages (from tqdm->stanza) (0.4.6)\n",
      "Requirement already satisfied: MarkupSafe>=2.0 in c:\\python311\\lib\\site-packages (from jinja2->torch>=1.3.0->stanza) (2.1.2)\n",
      "Requirement already satisfied: mpmath>=0.19 in c:\\python311\\lib\\site-packages (from sympy->torch>=1.3.0->stanza) (1.3.0)\n",
      "Note: you may need to restart the kernel to use updated packages.\n"
     ]
    }
   ],
   "source": [
    "%pip install stanza"
   ]
  },
  {
   "cell_type": "code",
   "execution_count": 3,
   "id": "dd1b5eeb",
   "metadata": {},
   "outputs": [
    {
     "name": "stderr",
     "output_type": "stream",
     "text": [
      "Downloading https://raw.githubusercontent.com/stanfordnlp/stanza-resources/main/resources_1.6.0.json: 367kB [00:00, 22.7MB/s]                    \n",
      "2023-10-27 09:50:39 INFO: Downloading default packages for language: sk (Slovak) ...\n"
     ]
    },
    {
     "name": "stderr",
     "output_type": "stream",
     "text": [
      "2023-10-27 09:50:40 INFO: File exists: C:\\Users\\jakub\\stanza_resources\\sk\\default.zip\n",
      "2023-10-27 09:50:42 INFO: Finished downloading models and saved to C:\\Users\\jakub\\stanza_resources.\n"
     ]
    }
   ],
   "source": [
    "import stanza\n",
    "import tqdm\n",
    "import os\n",
    "import pandas as pd\n",
    "stanza.download('sk')"
   ]
  },
  {
   "cell_type": "code",
   "execution_count": 3,
   "id": "f9543d1c",
   "metadata": {},
   "outputs": [],
   "source": [
    "nlp_sk = stanza.Pipeline('sk', processors='tokenize,lemma,pos', verbose=False, use_gpu=True)"
   ]
  },
  {
   "cell_type": "code",
   "execution_count": 6,
   "id": "c6a79d0a",
   "metadata": {},
   "outputs": [],
   "source": [
    "def get_text(path):\n",
    "    files = os.listdir(path)\n",
    "    #files.remove('.ipynb_checkpoints')\n",
    "    docs = []\n",
    "    files_names = []\n",
    "    for i, fname in enumerate(files):\n",
    "        with open(path+fname, 'r', encoding='utf-8') as f:\n",
    "            lines = f.readlines()\n",
    "        file_name = fname[:-4]\n",
    "        all_text = ' '.join(lines)\n",
    "        docs.append(all_text)\n",
    "        files_names.append(file_name)\n",
    "    return docs\n",
    "\n",
    "def get_file_names(path):\n",
    "    files = os.listdir(path)\n",
    "    #files.remove('.ipynb_checkpoints')\n",
    "    #docs = []\n",
    "    files_names = []\n",
    "    for i, fname in enumerate(files):\n",
    "        with open(path+fname, 'r', encoding='utf-8') as f:\n",
    "            lines = f.readlines()\n",
    "        file_name = fname[:-4]\n",
    "        all_text = ' '.join(lines)\n",
    "        #docs.append(all_text)\n",
    "        files_names.append(file_name)\n",
    "    return files_names"
   ]
  },
  {
   "cell_type": "code",
   "execution_count": 7,
   "id": "49018442",
   "metadata": {},
   "outputs": [
    {
     "data": {
      "text/html": [
       "<div>\n",
       "<style scoped>\n",
       "    .dataframe tbody tr th:only-of-type {\n",
       "        vertical-align: middle;\n",
       "    }\n",
       "\n",
       "    .dataframe tbody tr th {\n",
       "        vertical-align: top;\n",
       "    }\n",
       "\n",
       "    .dataframe thead th {\n",
       "        text-align: right;\n",
       "    }\n",
       "</style>\n",
       "<table border=\"1\" class=\"dataframe\">\n",
       "  <thead>\n",
       "    <tr style=\"text-align: right;\">\n",
       "      <th></th>\n",
       "      <th>text</th>\n",
       "      <th>file_name</th>\n",
       "    </tr>\n",
       "  </thead>\n",
       "  <tbody>\n",
       "    <tr>\n",
       "      <th>0</th>\n",
       "      <td>﻿\\n \\n \\n \\n \\n \\n \\n \\n \\n \\n \\n pre 2. roční...</td>\n",
       "      <td>Chémia pre 2. ročník gymnázia so štvorročným š...</td>\n",
       "    </tr>\n",
       "    <tr>\n",
       "      <th>1</th>\n",
       "      <td>﻿SLOVENSKÝ\\n JAZYK pre 3. ročník základných šk...</td>\n",
       "      <td>Slovenský jazyk pre 3. ročník ZŠ</td>\n",
       "    </tr>\n",
       "    <tr>\n",
       "      <th>2</th>\n",
       "      <td>﻿\\n \\n \\n \\n \\n \\n \\n \\n k HUPSOVMU\\n šlabikár...</td>\n",
       "      <td>Pracovný zošit k Hupsovmu šlabikáru Lipka pre ...</td>\n",
       "    </tr>\n",
       "    <tr>\n",
       "      <th>3</th>\n",
       "      <td>﻿\\n \\n \\n \\n \\n \\n \\n \\n \\n \\n \\n \\n \\n \\n \\n ...</td>\n",
       "      <td>Dejepis pre 8. ročník ZŠ a 3. ročník gymnázia ...</td>\n",
       "    </tr>\n",
       "    <tr>\n",
       "      <th>4</th>\n",
       "      <td>﻿\\n \\n \\n \\n \\n SLOVENSKÝ\\n JAZYK pre 2. roční...</td>\n",
       "      <td>Slovenský jazyk pre 2. ročník ZŠ</td>\n",
       "    </tr>\n",
       "  </tbody>\n",
       "</table>\n",
       "</div>"
      ],
      "text/plain": [
       "                                                text  \\\n",
       "0  ﻿\\n \\n \\n \\n \\n \\n \\n \\n \\n \\n \\n pre 2. roční...   \n",
       "1  ﻿SLOVENSKÝ\\n JAZYK pre 3. ročník základných šk...   \n",
       "2  ﻿\\n \\n \\n \\n \\n \\n \\n \\n k HUPSOVMU\\n šlabikár...   \n",
       "3  ﻿\\n \\n \\n \\n \\n \\n \\n \\n \\n \\n \\n \\n \\n \\n \\n ...   \n",
       "4  ﻿\\n \\n \\n \\n \\n SLOVENSKÝ\\n JAZYK pre 2. roční...   \n",
       "\n",
       "                                           file_name  \n",
       "0  Chémia pre 2. ročník gymnázia so štvorročným š...  \n",
       "1                   Slovenský jazyk pre 3. ročník ZŠ  \n",
       "2  Pracovný zošit k Hupsovmu šlabikáru Lipka pre ...  \n",
       "3  Dejepis pre 8. ročník ZŠ a 3. ročník gymnázia ...  \n",
       "4                   Slovenský jazyk pre 2. ročník ZŠ  "
      ]
     },
     "execution_count": 7,
     "metadata": {},
     "output_type": "execute_result"
    }
   ],
   "source": [
    "texty_df = pd.DataFrame({'text':get_text('martak_texty/'), 'file_name':get_file_names('martak_texty/')})\n",
    "texty_df.head()"
   ]
  },
  {
   "cell_type": "markdown",
   "id": "e012ab91",
   "metadata": {},
   "source": [
    "## POS-taging"
   ]
  },
  {
   "cell_type": "code",
   "execution_count": 10,
   "id": "fc5ed12d",
   "metadata": {},
   "outputs": [],
   "source": [
    "def tokenization(data):\n",
    "    df_text = pd.DataFrame(columns=['document','word','lemma','pos'])\n",
    "    for i in tqdm.notebook.trange(len(data),desc='Text tokenization'):\n",
    "        try:\n",
    "            doc = nlp_sk(data.loc[i, \"text\"])\n",
    "        except AssertionError:\n",
    "            continue\n",
    "        else:\n",
    "            filename = data.loc[i, \"file_name\"]\n",
    "            for sentence in doc.sentences:\n",
    "                for word in sentence.words:\n",
    "                    df_text = pd.concat([df_text, pd.DataFrame.from_records([{ \n",
    "                        'document': filename,\n",
    "                        'word': word.text,\n",
    "                        'lemma': word.lemma,\n",
    "                        'pos': word.pos\n",
    "                    }])], ignore_index=True)\n",
    "    return df_text"
   ]
  },
  {
   "cell_type": "code",
   "execution_count": 11,
   "id": "3c714833",
   "metadata": {},
   "outputs": [
    {
     "data": {
      "application/vnd.jupyter.widget-view+json": {
       "model_id": "f697233a82a24bad9ccbbaab20f2c138",
       "version_major": 2,
       "version_minor": 0
      },
      "text/plain": [
       "Text tokenization:   0%|          | 0/33 [00:00<?, ?it/s]"
      ]
     },
     "metadata": {},
     "output_type": "display_data"
    }
   ],
   "source": [
    "textMR = tokenization(texty_df)"
   ]
  },
  {
   "cell_type": "code",
   "execution_count": 24,
   "id": "3fbb63b4",
   "metadata": {},
   "outputs": [],
   "source": [
    "textMR.to_csv('martak_texty/text_MR.csv', sep=';', encoding='utf8', decimal=',')"
   ]
  },
  {
   "cell_type": "code",
   "execution_count": 12,
   "id": "1d36e2c0",
   "metadata": {},
   "outputs": [],
   "source": [
    "# count each lexical category\n",
    "def morphostats(data):\n",
    "    df_stat = pd.DataFrame(columns=['document','NOUN','ADJ','VERB','DET','ADP','PROPN','CCONJ','SCONJ','INTJ','ADV','PRON',\n",
    "                                'AUX','NUM','PART','PUNCT','SPACE','X'])\n",
    "    for doc in data['document'].unique():\n",
    "        dfp = data.loc[data['document']==doc]\n",
    "        df_stat = pd.concat([df_stat, pd.DataFrame.from_records([{ \n",
    "            'document': doc,\n",
    "            'NOUN': len(dfp.loc[dfp['pos']=='NOUN']),\n",
    "            'ADJ': len(dfp.loc[dfp['pos']=='ADJ']),\n",
    "            'VERB': len(dfp.loc[dfp['pos']=='VERB']),\n",
    "            'DET': len(dfp.loc[dfp['pos']=='DET']),\n",
    "            'ADP': len(dfp.loc[dfp['pos']=='ADP']),\n",
    "            'PROPN': len(dfp.loc[dfp['pos']=='PROPN']),\n",
    "            'CCONJ': len(dfp.loc[dfp['pos']=='CCONJ']),\n",
    "            'SCONJ': len(dfp.loc[dfp['pos']=='SCONJ']),\n",
    "            'INTJ': len(dfp.loc[dfp['pos']=='INTJ']),\n",
    "            'ADV': len(dfp.loc[dfp['pos']=='ADV']),\n",
    "            'PRON': len(dfp.loc[dfp['pos']=='PRON']),\n",
    "            'AUX': len(dfp.loc[dfp['pos']=='AUX']),\n",
    "            'PART': len(dfp.loc[dfp['pos']=='PART']),\n",
    "            'PUNCT': len(dfp.loc[dfp['pos']=='PUNCT']),\n",
    "            'SPACE': len(dfp.loc[dfp['pos']=='SPACE']),\n",
    "            'X': len(dfp.loc[dfp['pos']=='X']),\n",
    "            'NUM': len(dfp.loc[dfp['pos']=='NUM'])\n",
    "        }])], ignore_index=True)\n",
    "    return df_stat"
   ]
  },
  {
   "cell_type": "code",
   "execution_count": 13,
   "id": "a7b840c2",
   "metadata": {},
   "outputs": [],
   "source": [
    "text_stats_MR = morphostats(textMR)"
   ]
  },
  {
   "cell_type": "code",
   "execution_count": 15,
   "id": "0e3f0f03",
   "metadata": {},
   "outputs": [],
   "source": [
    "text_stats_MR.to_csv('martak_texty/text_stats_MR.csv', sep=';', encoding='utf8', decimal=',')"
   ]
  },
  {
   "cell_type": "code",
   "execution_count": 16,
   "id": "a3c097fa",
   "metadata": {},
   "outputs": [
    {
     "name": "stderr",
     "output_type": "stream",
     "text": [
      "[nltk_data] Downloading package punkt to /home/jupyter-\n",
      "[nltk_data]     lbenko/nltk_data...\n",
      "[nltk_data]   Package punkt is already up-to-date!\n"
     ]
    },
    {
     "data": {
      "text/plain": [
       "True"
      ]
     },
     "execution_count": 16,
     "metadata": {},
     "output_type": "execute_result"
    }
   ],
   "source": [
    "import re\n",
    "import string\n",
    "import nltk\n",
    "nltk.download('punkt')"
   ]
  },
  {
   "cell_type": "code",
   "execution_count": 17,
   "id": "4f6a685d",
   "metadata": {},
   "outputs": [],
   "source": [
    "def analyze_senteces(df, cat):\n",
    "    long_sent = 0\n",
    "    short_sent = 0\n",
    "    count_words = 0\n",
    "    count_char = 0\n",
    "    list_text = []\n",
    "    for i in df.index:\n",
    "        sentences = nltk.sent_tokenize(df.at[i,'text'])\n",
    "        for sen in sentences:\n",
    "            tex = re.sub('['+string.punctuation+']', '', str(sen))\n",
    "            count_char += len(tex.replace(\" \",\"\"))\n",
    "            rtext = re.sub('['+string.punctuation+']', '', str(sen)).split()\n",
    "            for w in rtext:\n",
    "                if w not in list_text:\n",
    "                    list_text.append(w)\n",
    "            if len(rtext)>=10:\n",
    "                long_sent += 1\n",
    "            else:\n",
    "                short_sent += 1\n",
    "            count_words += len(rtext)\n",
    "    no_sent = long_sent+short_sent\n",
    "    print(cat,':')\n",
    "    print('avg_sent',count_words/no_sent)\n",
    "    print('avg_word',count_char/count_words)\n",
    "    print('short_sent',short_sent)\n",
    "    print('long_sent',long_sent)\n",
    "    print('no_sent',no_sent)"
   ]
  },
  {
   "cell_type": "code",
   "execution_count": 18,
   "id": "f553e63f",
   "metadata": {},
   "outputs": [
    {
     "name": "stdout",
     "output_type": "stream",
     "text": [
      "annual_reports :\n",
      "avg_sent 11.735774618052798\n",
      "avg_word 5.3473517964916235\n",
      "short_sent 38901\n",
      "long_sent 36633\n",
      "no_sent 75534\n"
     ]
    }
   ],
   "source": [
    "analyze_senteces(texty_df, 'annual_reports')"
   ]
  },
  {
   "cell_type": "markdown",
   "id": "3c761d2f",
   "metadata": {},
   "source": [
    "# POS Tagging for complexity"
   ]
  },
  {
   "cell_type": "code",
   "execution_count": 25,
   "id": "726a04c0",
   "metadata": {},
   "outputs": [],
   "source": [
    "def xposing(data):\n",
    "    df_text = pd.DataFrame(columns=['lemma','xpos'])\n",
    "    for i in tqdm.notebook.trange(len(data),desc='Text tokenization'):\n",
    "        try:\n",
    "            doc = nlp_sk(data.loc[i, \"text\"])\n",
    "        except AssertionError:\n",
    "            continue\n",
    "        else:\n",
    "            filename = data.loc[i, \"file_name\"]\n",
    "            for sentence in doc.sentences:\n",
    "                for word in sentence.words:\n",
    "                    df_text = pd.concat([df_text, pd.DataFrame.from_records([{ \n",
    "                        'document': filename,\n",
    "                        'lemma': word.lemma,\n",
    "                        'pos': word.xpos\n",
    "                    }])], ignore_index=True)\n",
    "    return df_text"
   ]
  },
  {
   "cell_type": "code",
   "execution_count": null,
   "id": "9ac56389",
   "metadata": {},
   "outputs": [
    {
     "data": {
      "application/vnd.jupyter.widget-view+json": {
       "model_id": "1b63fcc219044937b3c14916f098e5dc",
       "version_major": 2,
       "version_minor": 0
      },
      "text/plain": [
       "Text tokenization:   0%|          | 0/33 [00:00<?, ?it/s]"
      ]
     },
     "metadata": {},
     "output_type": "display_data"
    }
   ],
   "source": [
    "posMR = xposing(texty_df)"
   ]
  },
  {
   "cell_type": "code",
   "execution_count": null,
   "id": "9c5639e5",
   "metadata": {},
   "outputs": [],
   "source": [
    "posMR = posMR.drop('xpos', axis=1)"
   ]
  },
  {
   "cell_type": "code",
   "execution_count": null,
   "id": "94f4930f",
   "metadata": {},
   "outputs": [],
   "source": [
    "posMR.to_csv('martak_texty/posMR.csv', sep=';', encoding='utf8', decimal=',', index = False)"
   ]
  }
 ],
 "metadata": {
  "kernelspec": {
   "display_name": "Python 3 (ipykernel)",
   "language": "python",
   "name": "python3"
  },
  "language_info": {
   "codemirror_mode": {
    "name": "ipython",
    "version": 3
   },
   "file_extension": ".py",
   "mimetype": "text/x-python",
   "name": "python",
   "nbconvert_exporter": "python",
   "pygments_lexer": "ipython3",
   "version": "3.11.0"
  }
 },
 "nbformat": 4,
 "nbformat_minor": 5
}
